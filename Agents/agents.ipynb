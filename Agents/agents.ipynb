{
 "cells": [
  {
   "cell_type": "code",
   "execution_count": 2,
   "metadata": {},
   "outputs": [
    {
     "name": "stdout",
     "output_type": "stream",
     "text": [
      "Requirement already satisfied: arxiv in c:\\users\\mustafa\\desktop\\ml\\projects\\chatbots\\evenv\\lib\\site-packages (2.1.3)\n",
      "Requirement already satisfied: feedparser~=6.0.10 in c:\\users\\mustafa\\desktop\\ml\\projects\\chatbots\\evenv\\lib\\site-packages (from arxiv) (6.0.11)\n",
      "Requirement already satisfied: requests~=2.32.0 in c:\\users\\mustafa\\desktop\\ml\\projects\\chatbots\\evenv\\lib\\site-packages (from arxiv) (2.32.3)\n",
      "Requirement already satisfied: sgmllib3k in c:\\users\\mustafa\\desktop\\ml\\projects\\chatbots\\evenv\\lib\\site-packages (from feedparser~=6.0.10->arxiv) (1.0.0)\n",
      "Requirement already satisfied: charset-normalizer<4,>=2 in c:\\users\\mustafa\\desktop\\ml\\projects\\chatbots\\evenv\\lib\\site-packages (from requests~=2.32.0->arxiv) (3.3.2)\n",
      "Requirement already satisfied: idna<4,>=2.5 in c:\\users\\mustafa\\desktop\\ml\\projects\\chatbots\\evenv\\lib\\site-packages (from requests~=2.32.0->arxiv) (3.7)\n",
      "Requirement already satisfied: urllib3<3,>=1.21.1 in c:\\users\\mustafa\\desktop\\ml\\projects\\chatbots\\evenv\\lib\\site-packages (from requests~=2.32.0->arxiv) (2.2.2)\n",
      "Requirement already satisfied: certifi>=2017.4.17 in c:\\users\\mustafa\\desktop\\ml\\projects\\chatbots\\evenv\\lib\\site-packages (from requests~=2.32.0->arxiv) (2024.7.4)\n"
     ]
    }
   ],
   "source": [
    "# !pip install arxiv\n",
    "\n"
   ]
  },
  {
   "cell_type": "code",
   "execution_count": 5,
   "metadata": {},
   "outputs": [],
   "source": [
    "from langchain_community.tools import WikipediaQueryRun\n",
    "from langchain_community.utilities import WikipediaAPIWrapper\n"
   ]
  },
  {
   "cell_type": "code",
   "execution_count": 7,
   "metadata": {},
   "outputs": [],
   "source": [
    "apiwrapper= WikipediaAPIWrapper(top_k_results=1,doc_content_chars_max=200)"
   ]
  },
  {
   "cell_type": "code",
   "execution_count": 24,
   "metadata": {},
   "outputs": [],
   "source": [
    "Wiki = WikipediaQueryRun(api_wrapper=apiwrapper)"
   ]
  },
  {
   "cell_type": "code",
   "execution_count": 25,
   "metadata": {},
   "outputs": [
    {
     "data": {
      "text/plain": [
       "'wikipedia'"
      ]
     },
     "execution_count": 25,
     "metadata": {},
     "output_type": "execute_result"
    }
   ],
   "source": [
    "Wiki.name"
   ]
  },
  {
   "cell_type": "code",
   "execution_count": 13,
   "metadata": {},
   "outputs": [],
   "source": [
    "from langchain_community.document_loaders import WebBaseLoader\n",
    "from langchain_community.vectorstores import FAISS\n",
    "from langchain_text_splitters import RecursiveCharacterTextSplitter\n",
    "from langchain_community.embeddings import OllamaEmbeddings"
   ]
  },
  {
   "cell_type": "code",
   "execution_count": 15,
   "metadata": {},
   "outputs": [
    {
     "data": {
      "text/plain": [
       "VectorStoreRetriever(tags=['FAISS', 'OllamaEmbeddings'], vectorstore=<langchain_community.vectorstores.faiss.FAISS object at 0x0000023458AD1C70>)"
      ]
     },
     "execution_count": 15,
     "metadata": {},
     "output_type": "execute_result"
    }
   ],
   "source": [
    "loader = WebBaseLoader(\"https://docs.smith.langchain.com/\")\n",
    "docs = loader.load()\n",
    "documents=RecursiveCharacterTextSplitter(chunk_size=1000, chunk_overlap=200).split_documents(docs)\n",
    "vectordb = FAISS.from_documents(documents,OllamaEmbeddings(model=\"gemma\"))\n",
    "retriver = vectordb.as_retriever()\n",
    "retriver"
   ]
  },
  {
   "cell_type": "code",
   "execution_count": 18,
   "metadata": {},
   "outputs": [],
   "source": [
    "from langchain.tools.retriever import create_retriever_tool\n",
    "retriver_tools = create_retriever_tool(retriver,\"langsmith_search\",\n",
    "                      \"search for information about langsmith. For any questions about langsmith use this tool\")"
   ]
  },
  {
   "cell_type": "code",
   "execution_count": 20,
   "metadata": {},
   "outputs": [
    {
     "data": {
      "text/plain": [
       "'langsmith_search'"
      ]
     },
     "execution_count": 20,
     "metadata": {},
     "output_type": "execute_result"
    }
   ],
   "source": [
    "retriver_tools.name"
   ]
  },
  {
   "cell_type": "code",
   "execution_count": 21,
   "metadata": {},
   "outputs": [],
   "source": [
    "# Arxiv Tool\n",
    "from langchain_community.utilities import ArxivAPIWrapper\n",
    "from langchain_community.tools import ArxivQueryRun"
   ]
  },
  {
   "cell_type": "code",
   "execution_count": 23,
   "metadata": {},
   "outputs": [
    {
     "data": {
      "text/plain": [
       "'arxiv'"
      ]
     },
     "execution_count": 23,
     "metadata": {},
     "output_type": "execute_result"
    }
   ],
   "source": [
    "arxiv_wapper = ArxivAPIWrapper(top_k_results=1, doc_content_chars_max=100)\n",
    "arxiv = ArxivQueryRun(api_wrapper=arxiv_wapper)\n",
    "arxiv.name"
   ]
  },
  {
   "cell_type": "code",
   "execution_count": 26,
   "metadata": {},
   "outputs": [],
   "source": [
    "tools = [Wiki,arxiv,retriver_tools]"
   ]
  },
  {
   "cell_type": "code",
   "execution_count": 27,
   "metadata": {},
   "outputs": [
    {
     "data": {
      "text/plain": [
       "[WikipediaQueryRun(api_wrapper=WikipediaAPIWrapper(wiki_client=<module 'wikipedia' from 'c:\\\\Users\\\\MUSTAFA\\\\Desktop\\\\ML\\\\Projects\\\\Chatbots\\\\evenv\\\\Lib\\\\site-packages\\\\wikipedia\\\\__init__.py'>, top_k_results=1, lang='en', load_all_available_meta=False, doc_content_chars_max=200)),\n",
       " ArxivQueryRun(api_wrapper=ArxivAPIWrapper(arxiv_search=<class 'arxiv.Search'>, arxiv_exceptions=(<class 'arxiv.ArxivError'>, <class 'arxiv.UnexpectedEmptyPageError'>, <class 'arxiv.HTTPError'>), top_k_results=1, ARXIV_MAX_QUERY_LENGTH=300, continue_on_failure=False, load_max_docs=100, load_all_available_meta=False, doc_content_chars_max=100, arxiv_result=<class 'arxiv.Result'>)),\n",
       " Tool(name='langsmith_search', description='search for information about langsmith. For any questions about langsmith use this tool', args_schema=<class 'langchain_core.tools.RetrieverInput'>, func=functools.partial(<function _get_relevant_documents at 0x0000023455AA0A40>, retriever=VectorStoreRetriever(tags=['FAISS', 'OllamaEmbeddings'], vectorstore=<langchain_community.vectorstores.faiss.FAISS object at 0x0000023458AD1C70>), document_prompt=PromptTemplate(input_variables=['page_content'], template='{page_content}'), document_separator='\\n\\n'), coroutine=functools.partial(<function _aget_relevant_documents at 0x0000023455AA0FE0>, retriever=VectorStoreRetriever(tags=['FAISS', 'OllamaEmbeddings'], vectorstore=<langchain_community.vectorstores.faiss.FAISS object at 0x0000023458AD1C70>), document_prompt=PromptTemplate(input_variables=['page_content'], template='{page_content}'), document_separator='\\n\\n'))]"
      ]
     },
     "execution_count": 27,
     "metadata": {},
     "output_type": "execute_result"
    }
   ],
   "source": [
    "tools"
   ]
  },
  {
   "cell_type": "code",
   "execution_count": 29,
   "metadata": {},
   "outputs": [],
   "source": [
    "#Agents\n",
    "from langchain.llms import Ollama\n",
    "from langchain.agents import initialize_agent\n",
    "from langchain.agents import AgentType"
   ]
  },
  {
   "cell_type": "code",
   "execution_count": 30,
   "metadata": {},
   "outputs": [],
   "source": [
    "llm = Ollama(model=\"gemma\")"
   ]
  },
  {
   "cell_type": "code",
   "execution_count": 36,
   "metadata": {},
   "outputs": [],
   "source": [
    "agent = initialize_agent(\n",
    "    tools, \n",
    "    llm, \n",
    "    agent=AgentType.ZERO_SHOT_REACT_DESCRIPTION, \n",
    "    verbose=True\n",
    ")"
   ]
  },
  {
   "cell_type": "code",
   "execution_count": 39,
   "metadata": {},
   "outputs": [
    {
     "name": "stdout",
     "output_type": "stream",
     "text": [
      "\n",
      "\n",
      "\u001b[1m> Entering new AgentExecutor chain...\u001b[0m\n",
      "\u001b[32;1m\u001b[1;3mAction: gemma\n",
      "Action Input: \"tell me about langsmith\"\u001b[0m\n",
      "Observation: \u001b[36;1m\u001b[1;3m## Langsmith\n",
      "\n",
      "**Who is Langsmith?**\n",
      "\n",
      "Langsmith is a leading AI-powered language platform that helps businesses and creators generate compelling written content, automate tasks, and improve their overall communication. \n",
      "\n",
      "**What does Langsmith do?**\n",
      "\n",
      "The platform offers a variety of features and functionalities, including:\n",
      "\n",
      "* **Content creation:** Generate original blog posts, website copy, product descriptions, marketing materials, and more.\n",
      "* **Translation:** Translate text between multiple languages in real-time.\n",
      "* **Summarization:** Summarize long pieces of text into concise and informative summaries.\n",
      "* **ChatGPT integration:** Access the power of ChatGPT's large language model to answer questions, generate creative content, and more.\n",
      "* **Workflow automation:** Automate tasks like content editing, research, and data entry.\n",
      "\n",
      "**Benefits of using Langsmith:**\n",
      "\n",
      "* **Increased productivity:** Automate tasks and focus on your core competencies.\n",
      "* **Enhanced creativity:** Generate unique and engaging content effortlessly.\n",
      "* **Improved content quality:** Access factual information and diverse perspectives.\n",
      "* **Cost savings:** Reduce the need for human writers and editors.\n",
      "* **Competitive advantage:** Stand out with exceptional content and messaging.\n",
      "\n",
      "**Industries served:**\n",
      "\n",
      "Langsmith caters to a wide range of industries, including:\n",
      "\n",
      "* Content creation and publishing\n",
      "* Marketing and advertising\n",
      "* Education and research\n",
      "* Technology and software\n",
      "* E-commerce and retail\n",
      "\n",
      "**Pricing:**\n",
      "\n",
      "Langsmith offers a free plan with limited features, as well as paid plans with additional functionalities and higher limits.\n",
      "\n",
      "**Overall:**\n",
      "\n",
      "Langsmith is a valuable tool for businesses and creators who need to produce high-quality written content, streamline their workflows, and achieve better communication results.\n",
      "\n",
      "**Additional information:**\n",
      "\n",
      "* Founded in 2020, Langsmith is headquartered in San Francisco, California.\n",
      "* The platform has processed over 1 billion words and generated millions of pieces of content.\n",
      "* Langsmith is backed by leading investors such as GV and Craft Ventures.\n",
      "\n",
      "**I hope this information is helpful. Please let me know if you have any other questions.**\u001b[0m\n",
      "Thought:\u001b[32;1m\u001b[1;3m**Final Answer:** Langsmith is an AI-powered language platform that enables businesses and creators to generate compelling written content, automate tasks, and enhance their communication capabilities.\u001b[0m\n",
      "\n",
      "\u001b[1m> Finished chain.\u001b[0m\n",
      "{'input': {'input:tell me about langsmith'}, 'output': '** Langsmith is an AI-powered language platform that enables businesses and creators to generate compelling written content, automate tasks, and enhance their communication capabilities.'}\n"
     ]
    }
   ],
   "source": [
    "# Use the agent\n",
    "response = agent.invoke({\"input:tell me about langsmith\"})\n",
    "print(response)"
   ]
  },
  {
   "cell_type": "code",
   "execution_count": null,
   "metadata": {},
   "outputs": [],
   "source": []
  }
 ],
 "metadata": {
  "kernelspec": {
   "display_name": "Python 3",
   "language": "python",
   "name": "python3"
  },
  "language_info": {
   "codemirror_mode": {
    "name": "ipython",
    "version": 3
   },
   "file_extension": ".py",
   "mimetype": "text/x-python",
   "name": "python",
   "nbconvert_exporter": "python",
   "pygments_lexer": "ipython3",
   "version": "3.12.4"
  }
 },
 "nbformat": 4,
 "nbformat_minor": 2
}
